{
  "nbformat": 4,
  "nbformat_minor": 0,
  "metadata": {
    "colab": {
      "name": "python.ipynb",
      "provenance": []
    },
    "kernelspec": {
      "name": "python3",
      "display_name": "Python 3"
    },
    "language_info": {
      "name": "python"
    }
  },
  "cells": [
    {
      "cell_type": "code",
      "execution_count": 1,
      "metadata": {
        "colab": {
          "base_uri": "https://localhost:8080/"
        },
        "id": "Niy8IBYsmgbm",
        "outputId": "331aee74-8d5a-4195-e901-e78b944ccf15"
      },
      "outputs": [
        {
          "output_type": "stream",
          "name": "stdout",
          "text": [
            "['abc', 34, True, 40, 'male']\n",
            "5\n"
          ]
        }
      ],
      "source": [
        "thislist = [\"abc\", 34, True, 40, \"male\"]\n",
        "print(thislist)\n",
        "print(len(thislist))"
      ]
    },
    {
      "cell_type": "code",
      "source": [
        "tuple1 = (\"abc\", 34, True, 40, \"male\")\n",
        "print(tuple1)\n",
        "print(len(tuple1))"
      ],
      "metadata": {
        "colab": {
          "base_uri": "https://localhost:8080/"
        },
        "id": "xG5QiwabrDKE",
        "outputId": "97db01c1-a3b1-45aa-a577-c407b7453ba2"
      },
      "execution_count": 2,
      "outputs": [
        {
          "output_type": "stream",
          "name": "stdout",
          "text": [
            "('abc', 34, True, 40, 'male')\n",
            "5\n"
          ]
        }
      ]
    },
    {
      "cell_type": "code",
      "source": [
        "set1 = {\"abc\", 34, True, 40, \"abc\"}\n",
        "print(set1)\n",
        "print(len(set1))"
      ],
      "metadata": {
        "colab": {
          "base_uri": "https://localhost:8080/"
        },
        "id": "6fsqz98RrNto",
        "outputId": "367cb8da-8960-46ec-87df-aee89920e6d3"
      },
      "execution_count": 3,
      "outputs": [
        {
          "output_type": "stream",
          "name": "stdout",
          "text": [
            "{40, True, 34, 'abc'}\n",
            "4\n"
          ]
        }
      ]
    },
    {
      "cell_type": "code",
      "source": [
        "dic = {\n",
        "    \"name\":'Himank',\n",
        "    \"Age\":22\n",
        "}\n",
        "print(dic)"
      ],
      "metadata": {
        "colab": {
          "base_uri": "https://localhost:8080/"
        },
        "id": "86BxchUNrYI0",
        "outputId": "897e92b8-65d7-4c15-87fb-30cfe9db53a0"
      },
      "execution_count": 4,
      "outputs": [
        {
          "output_type": "stream",
          "name": "stdout",
          "text": [
            "{'name': 'Himank', 'Age': 22}\n"
          ]
        }
      ]
    },
    {
      "cell_type": "code",
      "source": [
        "import sys\n",
        "print(\"python version\")\n",
        "print(sys.version)"
      ],
      "metadata": {
        "colab": {
          "base_uri": "https://localhost:8080/"
        },
        "id": "4l5h_7YdHf0w",
        "outputId": "f26d03c4-6350-41fa-ae13-0c658a5f7230"
      },
      "execution_count": 5,
      "outputs": [
        {
          "output_type": "stream",
          "name": "stdout",
          "text": [
            "python version\n",
            "3.7.12 (default, Jan 15 2022, 18:48:18) \n",
            "[GCC 7.5.0]\n"
          ]
        }
      ]
    },
    {
      "cell_type": "code",
      "source": [
        "from datetime import date\n",
        "today=date.today()\n",
        "print(today)"
      ],
      "metadata": {
        "colab": {
          "base_uri": "https://localhost:8080/"
        },
        "id": "sv-2tJXNIS3a",
        "outputId": "2ebf8303-431e-4631-bba9-7d9a5eb40b79"
      },
      "execution_count": 6,
      "outputs": [
        {
          "output_type": "stream",
          "name": "stdout",
          "text": [
            "2022-02-08\n"
          ]
        }
      ]
    },
    {
      "cell_type": "code",
      "source": [
        "import datetime\n",
        "now=datetime.datetime.now()\n",
        "print(now)"
      ],
      "metadata": {
        "colab": {
          "base_uri": "https://localhost:8080/"
        },
        "id": "LjmBlfCiIVsp",
        "outputId": "8dd1d356-ca85-4764-fbab-86ce66cf2f24"
      },
      "execution_count": 7,
      "outputs": [
        {
          "output_type": "stream",
          "name": "stdout",
          "text": [
            "2022-02-08 07:00:56.697965\n"
          ]
        }
      ]
    },
    {
      "cell_type": "code",
      "source": [
        "class dog:\n",
        "    a=\"Himank\"\n",
        "    b=\"bye!\"\n",
        "    def intro(self):\n",
        "        print(\"hi\",self.a)\n",
        "\n",
        "Tommy=dog()\n",
        "Tommy.intro()\n",
        "print(Tommy.b)"
      ],
      "metadata": {
        "colab": {
          "base_uri": "https://localhost:8080/"
        },
        "id": "YHX3VUVyIabg",
        "outputId": "a1b19bec-615a-4af7-c688-6b152df28183"
      },
      "execution_count": 8,
      "outputs": [
        {
          "output_type": "stream",
          "name": "stdout",
          "text": [
            "hi Himank\n",
            "bye!\n"
          ]
        }
      ]
    },
    {
      "cell_type": "code",
      "source": [
        "#format function\n",
        "\n",
        "print(format(28,\"d\"))\n",
        "print(format(28,\"b\"))\n",
        "print(format(28.55,\"f\"))"
      ],
      "metadata": {
        "colab": {
          "base_uri": "https://localhost:8080/"
        },
        "id": "0ksMfVwpIiof",
        "outputId": "decc4f86-adb2-49ae-ae09-0238a700d66c"
      },
      "execution_count": 9,
      "outputs": [
        {
          "output_type": "stream",
          "name": "stdout",
          "text": [
            "28\n",
            "11100\n",
            "28.550000\n"
          ]
        }
      ]
    },
    {
      "cell_type": "code",
      "source": [
        "#1\n",
        "list1=list(map(int,input(\"Enter the numbers for the list: \").split()))\n",
        "print(\"Ans1. Max number from the list is: \",max(list1))\n",
        "print()\n",
        "\n",
        "#2\n",
        "list2=list(map(int,input(\"Enter the numbers you want the sum for:  \").split()))\n",
        "print(\"Ans2. Sum of the numers is: \", sum(list2))\n",
        "print()\n",
        "\n",
        "\n",
        "#3\n",
        "mul=1\n",
        "list3=list(map(int,input(\"Enter the numbers you want the product for:  \").split()))\n",
        "for i in list3:\n",
        "    mul*=i\n",
        "print(\"Ans3. Multiplication of all numbers is \",mul)\n",
        "print()\n",
        "\n",
        "\n",
        "#4\n",
        "str1=input(\"enter the string: \")\n",
        "print(\"Ans4. The reverse of string\",str1,\"is:\",str1[::-1])\n",
        "print()\n",
        "\n",
        "#5\n",
        "print(\"Ans 5.\")\n",
        "def factorial(n):\n",
        "    if n==1 or n==0:\n",
        "        return 1\n",
        "    else:\n",
        "        return n*factorial(n-1)\n",
        "n=int(input(\"Enter the number you want the factorial of: \"))\n",
        "print(\"Ans5. The factoril of the given number is \", factorial(n))\n",
        "print()\n",
        "\n",
        "#6\n",
        "print(\"Ans 6.\")\n",
        "def checkRange(n,low,high):\n",
        "    \n",
        "    if n>low and n<high:\n",
        "        print(\"The given number is with the range\")\n",
        "    else:\n",
        "        print(\"The given number is out of range\")\n",
        "        \n",
        "        \n",
        "low=int(input(\"Enter the lower number: \"))\n",
        "high=int(input(\"Enter the higher number: \"))\n",
        "n=int(input(\"Enter the number you want to check: \"))\n",
        "checkRange(n,low,high)\n",
        "print()\n",
        "\n",
        "#7\n",
        "print(\"Ans 7.\")\n",
        "even=filter(lambda x: x%2==0,list(map(int,input(\"Enter the numbers for the list: \").split())))\n",
        "print(\"Even numbers from the given list is: \",end=\" \")\n",
        "for i in even:\n",
        "    print(i,end=\" \")"
      ],
      "metadata": {
        "colab": {
          "base_uri": "https://localhost:8080/"
        },
        "id": "cq8-cTp3Inj1",
        "outputId": "779e6cfb-e05a-4f0a-b5e1-05f89846c9ce"
      },
      "execution_count": 10,
      "outputs": [
        {
          "output_type": "stream",
          "name": "stdout",
          "text": [
            "Enter the numbers for the list: 23\n",
            "Ans1. Max number from the list is:  23\n",
            "\n",
            "Enter the numbers you want the sum for:  23 45 67 78\n",
            "Ans2. Sum of the numers is:  213\n",
            "\n",
            "Enter the numbers you want the product for:  23 45 67 78\n",
            "Ans3. Multiplication of all numbers is  5408910\n",
            "\n",
            "enter the string: Himank Jain\n",
            "Ans4. The reverse of string Himank Jain is: niaJ knamiH\n",
            "\n",
            "Ans 5.\n",
            "Enter the number you want the factorial of: 45\n",
            "Ans5. The factoril of the given number is  119622220865480194561963161495657715064383733760000000000\n",
            "\n",
            "Ans 6.\n",
            "Enter the lower number: 12\n",
            "Enter the higher number: 45\n",
            "Enter the number you want to check: 23\n",
            "The given number is with the range\n",
            "\n",
            "Ans 7.\n",
            "Enter the numbers for the list: 1 2 3 4\n",
            "Even numbers from the given list is:  2 4 "
          ]
        }
      ]
    }
  ]
}